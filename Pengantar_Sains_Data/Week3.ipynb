{
 "cells": [
  {
   "cell_type": "code",
   "execution_count": 11,
   "metadata": {},
   "outputs": [],
   "source": [
    "import numpy as np \n",
    "import pandas as pd\n",
    "import matplotlib.pyplot as plt"
   ]
  },
  {
   "cell_type": "code",
   "execution_count": 12,
   "metadata": {},
   "outputs": [],
   "source": [
    "# Membuat Data Sampel dan dataframe \n",
    "dates = pd.date_range(\"20240101\", periods=6)\n",
    "seed = 24_01_28\n",
    "rng = np.random.default_rng(seed)\n",
    "df = pd.DataFrame(rng.random((6, 4)), index=dates, \n",
    "                  columns=[\"A\", \"B\", \"C\", \"D\"])"
   ]
  },
  {
   "cell_type": "code",
   "execution_count": 13,
   "metadata": {},
   "outputs": [],
   "source": [
    "# Save to .CSV n .XLSX\n",
    "df.to_csv(\"test-pandas.csv\")"
   ]
  },
  {
   "cell_type": "code",
   "execution_count": 14,
   "metadata": {},
   "outputs": [
    {
     "data": {
      "text/html": [
       "<div>\n",
       "<style scoped>\n",
       "    .dataframe tbody tr th:only-of-type {\n",
       "        vertical-align: middle;\n",
       "    }\n",
       "\n",
       "    .dataframe tbody tr th {\n",
       "        vertical-align: top;\n",
       "    }\n",
       "\n",
       "    .dataframe thead th {\n",
       "        text-align: right;\n",
       "    }\n",
       "</style>\n",
       "<table border=\"1\" class=\"dataframe\">\n",
       "  <thead>\n",
       "    <tr style=\"text-align: right;\">\n",
       "      <th></th>\n",
       "      <th>A</th>\n",
       "      <th>B</th>\n",
       "      <th>C</th>\n",
       "      <th>D</th>\n",
       "    </tr>\n",
       "  </thead>\n",
       "  <tbody>\n",
       "    <tr>\n",
       "      <th>2024-01-01</th>\n",
       "      <td>0.825652</td>\n",
       "      <td>0.004787</td>\n",
       "      <td>0.306322</td>\n",
       "      <td>0.221930</td>\n",
       "    </tr>\n",
       "    <tr>\n",
       "      <th>2024-01-02</th>\n",
       "      <td>0.601254</td>\n",
       "      <td>0.933377</td>\n",
       "      <td>0.875675</td>\n",
       "      <td>0.322615</td>\n",
       "    </tr>\n",
       "    <tr>\n",
       "      <th>2024-01-03</th>\n",
       "      <td>0.503594</td>\n",
       "      <td>0.869474</td>\n",
       "      <td>0.753309</td>\n",
       "      <td>0.154781</td>\n",
       "    </tr>\n",
       "    <tr>\n",
       "      <th>2024-01-04</th>\n",
       "      <td>0.564115</td>\n",
       "      <td>0.638674</td>\n",
       "      <td>0.600097</td>\n",
       "      <td>0.187639</td>\n",
       "    </tr>\n",
       "    <tr>\n",
       "      <th>2024-01-05</th>\n",
       "      <td>0.964786</td>\n",
       "      <td>0.463029</td>\n",
       "      <td>0.341470</td>\n",
       "      <td>0.768406</td>\n",
       "    </tr>\n",
       "    <tr>\n",
       "      <th>2024-01-06</th>\n",
       "      <td>0.280830</td>\n",
       "      <td>0.943271</td>\n",
       "      <td>0.573361</td>\n",
       "      <td>0.191930</td>\n",
       "    </tr>\n",
       "  </tbody>\n",
       "</table>\n",
       "</div>"
      ],
      "text/plain": [
       "                   A         B         C         D\n",
       "2024-01-01  0.825652  0.004787  0.306322  0.221930\n",
       "2024-01-02  0.601254  0.933377  0.875675  0.322615\n",
       "2024-01-03  0.503594  0.869474  0.753309  0.154781\n",
       "2024-01-04  0.564115  0.638674  0.600097  0.187639\n",
       "2024-01-05  0.964786  0.463029  0.341470  0.768406\n",
       "2024-01-06  0.280830  0.943271  0.573361  0.191930"
      ]
     },
     "execution_count": 14,
     "metadata": {},
     "output_type": "execute_result"
    }
   ],
   "source": [
    "df_from_csv = pd.read_csv(\"test-pandas.csv\", index_col=0)"
   ]
  },
  {
   "cell_type": "code",
   "execution_count": 15,
   "metadata": {},
   "outputs": [],
   "source": [
    "plt.rcParams.update(plt.rcParamsDefault)\n",
    "plt.rcParams.update({\n",
    "   'font.size': 14,\n",
    "   'grid.alpha': 0.25})"
   ]
  },
  {
   "cell_type": "code",
   "execution_count": 29,
   "metadata": {},
   "outputs": [
    {
     "data": {
      "text/plain": [
       "array([4820., 4830., 4770., 4570., 4550., 4550., 4410., 4360., 4410.,\n",
       "       4420., 4420., 4510., 4560., 4580., 4620., 4590., 4550., 4550.,\n",
       "       4600., 4570., 4570., 4620., 4600., 4630., 4680., 4720., 4710.,\n",
       "       4770., 4770., 4800., 4810., 4810., 4850., 4830., 4840., 4820.,\n",
       "       4730., 4730., 4760., 4760., 4670., 4700., 4720., 4730., 4780.,\n",
       "       4770., 4820., 4810., 4800., 4770., 4690., 4700., 4640., 4750.,\n",
       "       4820., 4840., 4720., 4720., 4740., 4770., 4740., 4710., 4760.,\n",
       "       4760., 4800., 4820., 4820., 4830., 4890., 4930., 5000., 4960.,\n",
       "       4950., 4930., 4990., 5100., 5050., 5050., 5075., 5125., 5050.,\n",
       "       5025., 5050., 5100., 5100., 5025., 5100., 5175., 5200., 5300.,\n",
       "       5475., 5450., 5450., 5425., 5475., 5500., 5375., 5425., 5350.,\n",
       "       5350., 5350., 5375., 5375., 5400., 5475., 5450., 5400., 5450.,\n",
       "       5475., 5500., 5475., 5400., 5375., 5425., 5450., 5425., 5400.,\n",
       "       5400., 5375., 5400., 5375., 5425., 5425., 5425., 5525., 5600.,\n",
       "       5550., 5575., 5600., 5625., 5650., 5650., 5625., 5650., 5650.,\n",
       "       5650., 5650., 5575., 5575., 5600., 5625., 5675., 5650., 5575.,\n",
       "       5575., 5450., 5500., 5500., 5500., 5575., 5550., 5525., 5550.,\n",
       "       5525., 5500., 5475., 5525., 5575., 5600., 5575., 5450., 5300.,\n",
       "       5300., 5375., 5350., 5325., 5375., 5300., 5300., 5350., 5350.,\n",
       "       5350., 5200., 5200., 5175., 5225., 5250., 5250., 5200., 5175.,\n",
       "       5175., 5125., 5125., 5150., 5275., 5250., 5250., 5150., 5125.,\n",
       "       5000., 4960., 4990., 4950., 5100., 4920., 4940., 4970., 4960.,\n",
       "       4830., 4910., 5025., 5100., 5175., 5175., 5200., 5050., 5025.,\n",
       "       5050., 5175., 5175., 5175., 5175., 5175., 5175., 5300., 5375.,\n",
       "       5350., 5325., 5300., 5275., 5275., 5450., 5425., 5400., 5400.,\n",
       "       5375., 5300., 5325., 5275., 5425., 5550., 5500., 5450., 5550.,\n",
       "       5525., 5600., 5625., 5675., 5675.])"
      ]
     },
     "execution_count": 29,
     "metadata": {},
     "output_type": "execute_result"
    }
   ],
   "source": [
    "path = \"/workspaces/ST22-0424/Pengantar_Sains_Data/\"    # don't forget to put \"/\" at the end of string \n",
    "df_bri = pd.read_csv(path+\"BBRI.JK-2023.csv\")\n",
    "df_bri_low = df_bri[\"Low\"].to_numpy()\n",
    "df_bri_low"
   ]
  },
  {
   "cell_type": "code",
   "execution_count": 30,
   "metadata": {},
   "outputs": [
    {
     "data": {
      "text/plain": [
       "array([  10.,  -60., -200.,  -20.,    0., -140.,  -50.,   50.,   10.,\n",
       "          0.,   90.,   50.,   20.,   40.,  -30.,  -40.,    0.,   50.,\n",
       "        -30.,    0.,   50.,  -20.,   30.,   50.,   40.,  -10.,   60.,\n",
       "          0.,   30.,   10.,    0.,   40.,  -20.,   10.,  -20.,  -90.,\n",
       "          0.,   30.,    0.,  -90.,   30.,   20.,   10.,   50.,  -10.,\n",
       "         50.,  -10.,  -10.,  -30.,  -80.,   10.,  -60.,  110.,   70.,\n",
       "         20., -120.,    0.,   20.,   30.,  -30.,  -30.,   50.,    0.,\n",
       "         40.,   20.,    0.,   10.,   60.,   40.,   70.,  -40.,  -10.,\n",
       "        -20.,   60.,  110.,  -50.,    0.,   25.,   50.,  -75.,  -25.,\n",
       "         25.,   50.,    0.,  -75.,   75.,   75.,   25.,  100.,  175.,\n",
       "        -25.,    0.,  -25.,   50.,   25., -125.,   50.,  -75.,    0.,\n",
       "          0.,   25.,    0.,   25.,   75.,  -25.,  -50.,   50.,   25.,\n",
       "         25.,  -25.,  -75.,  -25.,   50.,   25.,  -25.,  -25.,    0.,\n",
       "        -25.,   25.,  -25.,   50.,    0.,    0.,  100.,   75.,  -50.,\n",
       "         25.,   25.,   25.,   25.,    0.,  -25.,   25.,    0.,    0.,\n",
       "          0.,  -75.,    0.,   25.,   25.,   50.,  -25.,  -75.,    0.,\n",
       "       -125.,   50.,    0.,    0.,   75.,  -25.,  -25.,   25.,  -25.,\n",
       "        -25.,  -25.,   50.,   50.,   25.,  -25., -125., -150.,    0.,\n",
       "         75.,  -25.,  -25.,   50.,  -75.,    0.,   50.,    0.,    0.,\n",
       "       -150.,    0.,  -25.,   50.,   25.,    0.,  -50.,  -25.,    0.,\n",
       "        -50.,    0.,   25.,  125.,  -25.,    0., -100.,  -25., -125.,\n",
       "        -40.,   30.,  -40.,  150., -180.,   20.,   30.,  -10., -130.,\n",
       "         80.,  115.,   75.,   75.,    0.,   25., -150.,  -25.,   25.,\n",
       "        125.,    0.,    0.,    0.,    0.,    0.,  125.,   75.,  -25.,\n",
       "        -25.,  -25.,  -25.,    0.,  175.,  -25.,  -25.,    0.,  -25.,\n",
       "        -75.,   25.,  -50.,  150.,  125.,  -50.,  -50.,  100.,  -25.,\n",
       "         75.,   25.,   50.,    0.])"
      ]
     },
     "execution_count": 30,
     "metadata": {},
     "output_type": "execute_result"
    }
   ],
   "source": [
    "first_diff = np.diff(df_bri_low, n=1) \n",
    "first_diff"
   ]
  },
  {
   "cell_type": "code",
   "execution_count": 31,
   "metadata": {},
   "outputs": [
    {
     "data": {
      "image/png": "[encoded data removed]",
      "text/plain": [
       "<Figure size 400x200 with 1 Axes>"
      ]
     },
     "metadata": {},
     "output_type": "display_data"
    }
   ],
   "source": [
    "fig, ax = plt.subplots(figsize=(4, 2))\n",
    "\n",
    "interval_length = 25\n",
    "bin_seq = interval_length*np.arange(-10, 10) + interval_length/2. \n",
    "ax.hist(first_diff, bins=bin_seq, linewidth=1, edgecolor=\"w\")\n",
    "\n",
    "ax.set_xlabel('$x$')\n",
    "ax.set_ylabel('count')\n",
    "ax.yaxis.grid(True)\n",
    "plt.show(fig)"
   ]
  },
  {
   "cell_type": "code",
   "execution_count": 3,
   "metadata": {},
   "outputs": [],
   "source": [
    "import numpy as np\n",
    "import pandas as pd\n",
    "import matplotlib.pyplot as plt\n",
    "plt.rcParams.update(plt.rcParamsDefault)\n",
    "plt.rcParams.update({\n",
    "   'font.size': 14,\n",
    "   'grid.alpha': 0.25}) "
   ]
  },
  {
   "cell_type": "code",
   "execution_count": 5,
   "metadata": {},
   "outputs": [
    {
     "data": {
      "text/html": [
       "<div>\n",
       "<style scoped>\n",
       "    .dataframe tbody tr th:only-of-type {\n",
       "        vertical-align: middle;\n",
       "    }\n",
       "\n",
       "    .dataframe tbody tr th {\n",
       "        vertical-align: top;\n",
       "    }\n",
       "\n",
       "    .dataframe thead th {\n",
       "        text-align: right;\n",
       "    }\n",
       "</style>\n",
       "<table border=\"1\" class=\"dataframe\">\n",
       "  <thead>\n",
       "    <tr style=\"text-align: right;\">\n",
       "      <th></th>\n",
       "      <th>Sweden</th>\n",
       "      <th>Unnamed: 1</th>\n",
       "      <th>Netherlands</th>\n",
       "      <th>Unnamed: 3</th>\n",
       "      <th>Canada</th>\n",
       "      <th>Unnamed: 5</th>\n",
       "      <th>France</th>\n",
       "      <th>Unnamed: 7</th>\n",
       "      <th>Mexico</th>\n",
       "      <th>Unnamed: 9</th>\n",
       "      <th>...</th>\n",
       "      <th>Soviet Union</th>\n",
       "      <th>Unnamed: 23</th>\n",
       "      <th>Japan</th>\n",
       "      <th>Unnamed: 25</th>\n",
       "      <th>United States</th>\n",
       "      <th>Unnamed: 27</th>\n",
       "      <th>India</th>\n",
       "      <th>Unnamed: 29</th>\n",
       "      <th>China</th>\n",
       "      <th>Unnamed: 31</th>\n",
       "    </tr>\n",
       "  </thead>\n",
       "  <tbody>\n",
       "    <tr>\n",
       "      <th>1</th>\n",
       "      <td>Stockholm</td>\n",
       "      <td>7.87</td>\n",
       "      <td>Amsterdam</td>\n",
       "      <td>8.68</td>\n",
       "      <td>Montreal</td>\n",
       "      <td>11.91</td>\n",
       "      <td>Paris</td>\n",
       "      <td>28.11</td>\n",
       "      <td>Mexico City</td>\n",
       "      <td>31.18</td>\n",
       "      <td>...</td>\n",
       "      <td>Moscow</td>\n",
       "      <td>63.34</td>\n",
       "      <td>Tokyo</td>\n",
       "      <td>110.21</td>\n",
       "      <td>New York City</td>\n",
       "      <td>77.81</td>\n",
       "      <td>Bombay</td>\n",
       "      <td>45.37</td>\n",
       "      <td>Shanghai</td>\n",
       "      <td>69</td>\n",
       "    </tr>\n",
       "    <tr>\n",
       "      <th>2</th>\n",
       "      <td>Goteborg</td>\n",
       "      <td>4.22</td>\n",
       "      <td>Rotterdam</td>\n",
       "      <td>7.31</td>\n",
       "      <td>Toronto</td>\n",
       "      <td>6.72</td>\n",
       "      <td>Marseilles</td>\n",
       "      <td>7.83</td>\n",
       "      <td>Guadalajara</td>\n",
       "      <td>10.12</td>\n",
       "      <td>...</td>\n",
       "      <td>Leningrad</td>\n",
       "      <td>36.36</td>\n",
       "      <td>Osaka</td>\n",
       "      <td>32.14</td>\n",
       "      <td>Chicago</td>\n",
       "      <td>35.5</td>\n",
       "      <td>Calcutta</td>\n",
       "      <td>30.03</td>\n",
       "      <td>Beijing</td>\n",
       "      <td>40.1</td>\n",
       "    </tr>\n",
       "    <tr>\n",
       "      <th>3</th>\n",
       "      <td>Malmo</td>\n",
       "      <td>2.49</td>\n",
       "      <td>The Hague</td>\n",
       "      <td>6.02</td>\n",
       "      <td>Vancouver</td>\n",
       "      <td>3.84</td>\n",
       "      <td>Lyon</td>\n",
       "      <td>5.35</td>\n",
       "      <td>Monterrey</td>\n",
       "      <td>8.06</td>\n",
       "      <td>...</td>\n",
       "      <td>Kiev</td>\n",
       "      <td>13.32</td>\n",
       "      <td>Nagoya</td>\n",
       "      <td>18.88</td>\n",
       "      <td>Los Angeles</td>\n",
       "      <td>24.79</td>\n",
       "      <td>Delhi</td>\n",
       "      <td>22.98</td>\n",
       "      <td>Hong Kong</td>\n",
       "      <td>36.92</td>\n",
       "    </tr>\n",
       "    <tr>\n",
       "      <th>4</th>\n",
       "      <td>Norrkoping</td>\n",
       "      <td>0.94</td>\n",
       "      <td>Utrecht</td>\n",
       "      <td>2.64</td>\n",
       "      <td>Edmonton</td>\n",
       "      <td>2.81</td>\n",
       "      <td>Toulouse</td>\n",
       "      <td>3.3</td>\n",
       "      <td>Juarez</td>\n",
       "      <td>3.79</td>\n",
       "      <td>...</td>\n",
       "      <td>Baku</td>\n",
       "      <td>11.37</td>\n",
       "      <td>Yokohama</td>\n",
       "      <td>16.39</td>\n",
       "      <td>Philadelphia</td>\n",
       "      <td>20.02</td>\n",
       "      <td>Hyderabad</td>\n",
       "      <td>20.62</td>\n",
       "      <td>Tianjin</td>\n",
       "      <td>32.2</td>\n",
       "    </tr>\n",
       "    <tr>\n",
       "      <th>5</th>\n",
       "      <td>Vasteras</td>\n",
       "      <td>0.89</td>\n",
       "      <td>Eindhoven</td>\n",
       "      <td>1.75</td>\n",
       "      <td>Hamilton</td>\n",
       "      <td>2.73</td>\n",
       "      <td>Nice</td>\n",
       "      <td>2.94</td>\n",
       "      <td>Puebla</td>\n",
       "      <td>3.46</td>\n",
       "      <td>...</td>\n",
       "      <td>Tashkent</td>\n",
       "      <td>10.9</td>\n",
       "      <td>Kyoto</td>\n",
       "      <td>13.37</td>\n",
       "      <td>Detroit</td>\n",
       "      <td>16.7</td>\n",
       "      <td>Madras</td>\n",
       "      <td>17.25</td>\n",
       "      <td>Shenyang</td>\n",
       "      <td>24.11</td>\n",
       "    </tr>\n",
       "  </tbody>\n",
       "</table>\n",
       "<p>5 rows × 32 columns</p>\n",
       "</div>"
      ],
      "text/plain": [
       "       Sweden Unnamed: 1 Netherlands Unnamed: 3     Canada Unnamed: 5  \\\n",
       "1   Stockholm       7.87   Amsterdam       8.68   Montreal      11.91   \n",
       "2    Goteborg       4.22   Rotterdam       7.31    Toronto       6.72   \n",
       "3       Malmo       2.49   The Hague       6.02  Vancouver       3.84   \n",
       "4  Norrkoping       0.94     Utrecht       2.64   Edmonton       2.81   \n",
       "5    Vasteras       0.89   Eindhoven       1.75   Hamilton       2.73   \n",
       "\n",
       "       France Unnamed: 7       Mexico Unnamed: 9  ... Soviet Union  \\\n",
       "1       Paris      28.11  Mexico City      31.18  ...       Moscow   \n",
       "2  Marseilles       7.83  Guadalajara      10.12  ...    Leningrad   \n",
       "3        Lyon       5.35    Monterrey       8.06  ...         Kiev   \n",
       "4    Toulouse        3.3       Juarez       3.79  ...         Baku   \n",
       "5        Nice       2.94       Puebla       3.46  ...     Tashkent   \n",
       "\n",
       "  Unnamed: 23     Japan Unnamed: 25  United States Unnamed: 27      India  \\\n",
       "1       63.34     Tokyo      110.21  New York City       77.81     Bombay   \n",
       "2       36.36     Osaka       32.14        Chicago        35.5   Calcutta   \n",
       "3       13.32    Nagoya       18.88    Los Angeles       24.79      Delhi   \n",
       "4       11.37  Yokohama       16.39   Philadelphia       20.02  Hyderabad   \n",
       "5        10.9     Kyoto       13.37        Detroit        16.7     Madras   \n",
       "\n",
       "  Unnamed: 29      China Unnamed: 31  \n",
       "1       45.37   Shanghai          69  \n",
       "2       30.03    Beijing        40.1  \n",
       "3       22.98  Hong Kong       36.92  \n",
       "4       20.62    Tianjin        32.2  \n",
       "5       17.25   Shenyang       24.11  \n",
       "\n",
       "[5 rows x 32 columns]"
      ]
     },
     "execution_count": 5,
     "metadata": {},
     "output_type": "execute_result"
    }
   ],
   "source": [
    "path = \"/workspaces/ST22-0424/Pengantar_Sains_Data/\"   # don't forget to put \"/\" at the end of string\n",
    "df_population = pd.read_excel(path+\"hoaglin-1983-population.xlsx\")\n",
    "df_population = df_population.drop(0, axis=0)\n",
    "df_population.head()"
   ]
  },
  {
   "cell_type": "code",
   "execution_count": 6,
   "metadata": {},
   "outputs": [],
   "source": [
    "label_city = df_population.columns[0::2]   # take column each even index\n",
    "population_matrix = np.zeros((len(df_population), len(label_city)))\n",
    "\n",
    "for i in range(len(label_city)):\n",
    "   population_matrix[:, i] = df_population.iloc[:, 2*i+1].to_numpy().astype(float)"
   ]
  },
  {
   "cell_type": "code",
   "execution_count": 8,
   "metadata": {},
   "outputs": [
    {
     "data": {
      "image/png": "[encoded data removed]",
      "text/plain": [
       "<Figure size 1000x800 with 1 Axes>"
      ]
     },
     "metadata": {},
     "output_type": "display_data"
    }
   ],
   "source": [
    "medianprops = {\"color\": 'k', \"linewidth\": 1}\n",
    "boxprops = {\"facecolor\": \"w\"}\n",
    "\n",
    "fig, ax = plt.subplots(figsize=(10, 8))\n",
    "\n",
    "boxplot_handler = ax.boxplot(population_matrix, patch_artist=True, vert=False, \n",
    "                           labels=label_city, medianprops=medianprops, \n",
    "                           sym=\"x\", boxprops=boxprops)\n",
    "\n",
    "ax.set_xlabel(\"Population in 100,000s\")\n",
    "ax.xaxis.grid(True)\n",
    "ax.set_xlim([0, 85])\n",
    "\n",
    "plt.show(fig)"
   ]
  },
  {
   "cell_type": "code",
   "execution_count": 10,
   "metadata": {},
   "outputs": [],
   "source": [
    "import numpy as np\n",
    "import pandas as pd\n",
    "import matplotlib.pyplot as plt\n",
    "\n",
    "plt.rcParams.update(plt.rcParamsDefault)\n",
    "plt.rcParams.update({\n",
    "   'font.size': 14,\n",
    "   'grid.alpha': 0.25}) "
   ]
  },
  {
   "cell_type": "code",
   "execution_count": null,
   "metadata": {},
   "outputs": [],
   "source": [
    "path = \"relative_path_to_dataset/\"   # do not forget to put \"/\" at the end of string path\n",
    "df_bri = pd.read_csv(path+\"BBRI.JK-2023.csv\")\n",
    "df_bri_low = df_bri[\"Low\"].to_numpy()\n",
    "first_diff_bri_low = np.diff(df_bri_low, n=1)\n",
    "first_diff_bri_low[:10], len(first_diff_bri_low)"
   ]
  },
  {
   "cell_type": "code",
   "execution_count": null,
   "metadata": {},
   "outputs": [],
   "source": [
    "df_telkom = pd.read_csv(path+\"TLKM.JK-2023.csv\")\n",
    "df_telkom_low = df_telkom[\"Low\"].to_numpy()\n",
    "df_telkom_low[:10], len(df_telkom_low)\n",
    "first_diff_telkom_low = np.diff(df_telkom_low, n=1)\n",
    "first_diff_telkom_low[:10], len(first_diff_telkom_low)"
   ]
  }
 ],
 "metadata": {
  "kernelspec": {
   "display_name": "Python 3",
   "language": "python",
   "name": "python3"
  },
  "language_info": {
   "codemirror_mode": {
    "name": "ipython",
    "version": 3
   },
   "file_extension": ".py",
   "mimetype": "text/x-python",
   "name": "python",
   "nbconvert_exporter": "python",
   "pygments_lexer": "ipython3",
   "version": "3.10.13"
  }
 },
 "nbformat": 4,
 "nbformat_minor": 2
}
